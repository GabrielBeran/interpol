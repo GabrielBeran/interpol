{
 "cells": [
  {
   "cell_type": "code",
   "execution_count": 9,
   "id": "54aa57e8",
   "metadata": {},
   "outputs": [],
   "source": [
    "# Importar bibliotecas\n",
    "from selenium import webdriver\n",
    "from selenium.webdriver.chrome.service import Service\n",
    "from selenium.webdriver.support.ui import Select\n",
    "import pandas as pd\n",
    "import time\n",
    "from webdriver_manager.chrome import ChromeDriverManager\n",
    "from selenium.webdriver.common.by import By\n",
    "from selenium.webdriver.support.ui import WebDriverWait\n",
    "from selenium.webdriver.support import expected_conditions as EC"
   ]
  },
  {
   "cell_type": "code",
   "execution_count": 10,
   "id": "e4cde64c",
   "metadata": {},
   "outputs": [],
   "source": [
    "# Instalar Webdriver\n",
    "service = Service(ChromeDriverManager().install())"
   ]
  },
  {
   "cell_type": "code",
   "execution_count": 11,
   "id": "0fc0b562",
   "metadata": {},
   "outputs": [],
   "source": [
    "# Abrir aba Web\n",
    "driver = webdriver.Chrome(service=service)\n",
    "# Localizar website e entrar\n",
    "website = 'https://www.interpol.int/How-we-work/Notices/Yellow-Notices/View-Yellow-Notices'\n",
    "driver.get(website)\n",
    "# Maximizar aba Web\n",
    "driver.maximize_window()\n",
    "# Inplicit wait de 5 segundos para renderizar a página ao abrir\n",
    "time.sleep(5)\n",
    "# Localizar botão e fechar aba de Cookies da página\n",
    "search_button = driver.find_element(by='xpath', value=\"//i[@class='privacy-cookie-banner__icon-close']\")\n",
    "search_button.click()\n",
    "\n",
    "# Criar listas vazias para armazenar a informação que queremos\n",
    "name = []\n",
    "ages = []\n",
    "country = []\n",
    "country_2 = []"
   ]
  },
  {
   "cell_type": "code",
   "execution_count": 12,
   "id": "cd97a0aa",
   "metadata": {},
   "outputs": [
    {
     "data": {
      "text/plain": [
       "''"
      ]
     },
     "execution_count": 12,
     "metadata": {},
     "output_type": "execute_result"
    }
   ],
   "source": [
    "# Encontrar todos os paises no seletor de nacionalidade da página e anexá los na lista country_2\n",
    "select_countries = Select(driver.find_element(by='xpath', value='//select[@id=\"nationalities\"]'))\n",
    "\n",
    "for option in select_countries.options:\n",
    "    country_2.append(option.text)\n",
    "\n",
    "# Remover o primeiro elemento da lista country_2 (é um elemento vazio)\n",
    "country_2.pop(0)"
   ]
  },
  {
   "cell_type": "code",
   "execution_count": 13,
   "id": "7189f9a5",
   "metadata": {
    "scrolled": false
   },
   "outputs": [],
   "source": [
    "# Itera pelos países na lista country_2\n",
    "for pais in country_2:\n",
    "    select_countries.select_by_visible_text(pais)\n",
    "\n",
    "    # Loop entre idades de 0 a 110 anos\n",
    "    for age in range(0, 111):\n",
    "        min_age_input = driver.find_element(by='xpath', value='//input[@id=\"ageMin\"]')\n",
    "        min_age_input.clear()  # Limpa o campo de idade mínima\n",
    "        min_age_input.send_keys(str(age))  # Insere a idade mínima\n",
    "\n",
    "    # Defina max_age como age + 1\n",
    "        max_age = age + 1\n",
    "\n",
    "        max_age_input = driver.find_element(by='xpath', value='//input[@id=\"ageMax\"]')\n",
    "        max_age_input.clear()  # Limpa o campo de idade máxima\n",
    "        max_age_input.send_keys(str(max_age))  # Insere a idade máxima\n",
    "\n",
    "        # Localiza o botão de pesquisa e clika nele\n",
    "        search_button = driver.find_element(by='xpath', value=\"//button[@id='submit' and @type='submit']\")\n",
    "        search_button.click()\n",
    "\n",
    "        time.sleep(5)\n",
    "\n",
    "        # Localiza o elemento da barra de paginação usando XPath\n",
    "        pagination = driver.find_element(by='xpath', value='//div[contains(@id, \"paginationPanel\")]')\n",
    "\n",
    "        # Localiza todos os elementos <li> dentro do elemento de paginação\n",
    "        pages = pagination.find_elements(by='xpath', value='.//li')\n",
    "\n",
    "        # Obtenha o número da primeira e última página\n",
    "        initial_page = 1\n",
    "\n",
    "        # Verifique se há pelo menos dois elementos em 'pages' antes de acessar 'pages[-2]'\n",
    "        if len(pages) >= 2:\n",
    "            last_page = int(pages[-2].text)\n",
    "        else:\n",
    "            last_page = initial_page\n",
    "\n",
    "\n",
    "        # Loop While para paginar todas as paginas do Website\n",
    "        while initial_page <= last_page:\n",
    "\n",
    "            # Try e Except para pular erros quando a página se encontra vazia (sem a presença de elementos para extrair)\n",
    "            try:\n",
    "                # Explicit Wait para esperar os elementos desejados aparecerem na página\n",
    "                container = WebDriverWait(driver, 5).until(EC.presence_of_element_located((By.XPATH, '//div[@class=\"redNoticesList__ajaxContainer\"]')))\n",
    "                products = WebDriverWait(container, 5).until(EC.presence_of_all_elements_located((By.XPATH, './/div[@class=\"redNoticeItem\"]')))\n",
    "            except:\n",
    "                pass\n",
    "\n",
    "            # Try e Except para pular erros quando a página se encontra vazia (sem a presença de elementos para extrair)\n",
    "            try:\n",
    "                # Encontrar os elementos que desejamos exrair por xpath e anexar todos em suas devidas listas (criadas acima)\n",
    "                for product in products:\n",
    "                    name.append(product.find_element(by='xpath', value=\".//a[@class='redNoticeItem__labelLink']\").text)\n",
    "                    ages.append(product.find_element(by='xpath', value='.//span[@class=\"age\"]').text)\n",
    "                    country.append(product.find_element(by='xpath', value='.//span[@class=\"nationalities\"]').text)\n",
    "            except:\n",
    "                pass\n",
    "\n",
    "                # Try e Except para evitar erros quando o prgrama chega na ultima aba e não existe mais o botão para uma próxima pagina\n",
    "            try:\n",
    "                # Encontra o botão que vai para a próxima aba (direita) e clika nele\n",
    "                next_button = driver.find_element(by='xpath', value=\"//a[@class='nextIndex right-arrow']\")\n",
    "                next_button.click()\n",
    "            except:\n",
    "                pass\n",
    "\n",
    "\n",
    "            # Parte final da paginação, diz ao loop while para somar +1 na contagem de páginas e ir para a proxima repetição\n",
    "            initial_page = initial_page + 1\n",
    "driver.quit()"
   ]
  },
  {
   "cell_type": "code",
   "execution_count": null,
   "id": "06531d11",
   "metadata": {},
   "outputs": [],
   "source": [
    "# Transforma as listas já preenchidas com informação em um documento CSV, utilizando o Pandas.\n",
    "max_length = max(len(name), len(ages), len(country))\n",
    "\n",
    "while len(name) < max_length:\n",
    "    name.append('')\n",
    "while len(ages) < max_length:\n",
    "    ages.append('')\n",
    "while len(country) < max_length:\n",
    "    country.append('')\n",
    "\n",
    "df_list = pd.DataFrame({'Name': name, 'Age': ages, 'Country': country})\n",
    "df_list.to_csv('Interpol_yellow_Notices.csv', index=False)"
   ]
  },
  {
   "cell_type": "code",
   "execution_count": null,
   "id": "30425018",
   "metadata": {},
   "outputs": [],
   "source": []
  }
 ],
 "metadata": {
  "kernelspec": {
   "display_name": "Python 3 (ipykernel)",
   "language": "python",
   "name": "python3"
  },
  "language_info": {
   "codemirror_mode": {
    "name": "ipython",
    "version": 3
   },
   "file_extension": ".py",
   "mimetype": "text/x-python",
   "name": "python",
   "nbconvert_exporter": "python",
   "pygments_lexer": "ipython3",
   "version": "3.11.4"
  }
 },
 "nbformat": 4,
 "nbformat_minor": 5
}
